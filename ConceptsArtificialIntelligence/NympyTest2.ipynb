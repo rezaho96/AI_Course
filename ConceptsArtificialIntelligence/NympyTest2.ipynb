{
 "cells": [
  {
   "cell_type": "code",
   "execution_count": 1,
   "metadata": {},
   "outputs": [],
   "source": [
    "import numpy as np"
   ]
  },
  {
   "cell_type": "markdown",
   "metadata": {},
   "source": [
    "# Adition , Subtraction and Multiplication of vector"
   ]
  },
  {
   "cell_type": "code",
   "execution_count": 5,
   "metadata": {},
   "outputs": [
    {
     "name": "stdout",
     "output_type": "stream",
     "text": [
      "[0 1 2 3 4 5 6 7 8 9]\n",
      "----------\n",
      "[ 1  3  5  7  9 11 13 15 17 19]\n",
      "----------\n",
      "[         0          1         32       2187     262144   48828125\n",
      "  175792128 1622647863          0 -400556711]\n",
      "----------\n",
      "[ -1  -2  -3  -4  -5  -6  -7  -8  -9 -10]\n",
      "----------\n",
      "[0.         0.33333333 0.4        0.42857143 0.44444444 0.45454545\n",
      " 0.46153846 0.46666667 0.47058824 0.47368421]\n",
      "----------\n",
      "[0 0 0 0 0 0 0 0 0 0]\n",
      "----------\n",
      "[ True  True  True  True  True  True  True  True  True  True]\n",
      "----------\n",
      "[  0   3  10  21  36  55  78 105 136 171]\n",
      "----------\n",
      "[  0   3  10  21  36  55  78 105 136 171]\n",
      "----------\n",
      "[ 1  4  7 10 13 16 19 22 25 28]\n",
      "----------\n",
      "[ -1  -2  -3  -4  -5  -6  -7  -8  -9 -10]\n",
      "----------\n",
      "[0.         0.33333333 0.4        0.42857143 0.44444444 0.45454545\n",
      " 0.46153846 0.46666667 0.47058824 0.47368421]\n",
      "----------\n"
     ]
    }
   ],
   "source": [
    "\n",
    "a=np.arange(10,dtype=int)\n",
    "b=np.arange(1,20,2,dtype=int)\n",
    "print(a)\n",
    "print(10* \"-\")\n",
    "print(b)\n",
    "print(10* \"-\")\n",
    "\n",
    "print(a**b)\n",
    "print(10* \"-\")\n",
    "\n",
    "print(a-b)\n",
    "print(10* \"-\")\n",
    "print(a/b)\n",
    "print(10* \"-\")\n",
    "print(a//b)\n",
    "print(10* \"-\")\n",
    "print(a<b)\n",
    "print(10* \"-\")\n",
    "print(a*b)\n",
    "print(10* \"-\")\n",
    "\n",
    "print(np.multiply(a,b))\n",
    "print(10* \"-\")\n",
    "print(np.add(a,b))\n",
    "print(10* \"-\")\n",
    "print(np.subtract(a,b))\n",
    "print(10* \"-\")\n",
    "print(np.divide(a,b))\n",
    "print(10* \"-\")\n"
   ]
  },
  {
   "cell_type": "markdown",
   "metadata": {},
   "source": [
    "# Adition , Subtraction and Multiplication of matrix"
   ]
  },
  {
   "cell_type": "code",
   "execution_count": 7,
   "metadata": {},
   "outputs": [
    {
     "name": "stdout",
     "output_type": "stream",
     "text": [
      "[[5 9 6 3 7]\n",
      " [1 5 2 2 5]]\n",
      "----------\n",
      "[[9 9 2 1 9]\n",
      " [1 3 4 1 6]]\n",
      "----------\n",
      "[[-4  0  4  2 -2]\n",
      " [ 0  2 -2  1 -1]]\n",
      "----------\n",
      "[[14 18  8  4 16]\n",
      " [ 2  8  6  3 11]]\n",
      "----------\n",
      "[[45 81 12  3 63]\n",
      " [ 1 15  8  2 30]]\n",
      "----------\n",
      "[[113 145 164 103 204 172]\n",
      " [ 61  69  87  51 104  95]]\n"
     ]
    }
   ],
   "source": [
    "\n",
    "a=np.random.randint(1,10,size=(2,5),dtype=int)\n",
    "b=np.random.randint(1,10,size=(2,5),dtype=int)\n",
    "print(a)\n",
    "print(10* \"-\")\n",
    "print(b)\n",
    "print(10* \"-\")\n",
    "\n",
    "print(a-b)\n",
    "print(10* \"-\")\n",
    "print(a+b)\n",
    "print(10* \"-\")\n",
    "print(a*b) # incorrect\n",
    "print(10* \"-\")\n",
    "\n",
    "c=np.random.randint(1,10,size=(5,6),dtype=int)\n",
    "\n",
    "print(np.dot(a,c))\n"
   ]
  },
  {
   "cell_type": "markdown",
   "metadata": {},
   "source": [
    "# Sum , Min , Max , Average , Size , Sqrt , Square of vector and matrix"
   ]
  },
  {
   "cell_type": "code",
   "execution_count": 14,
   "metadata": {},
   "outputs": [
    {
     "name": "stdout",
     "output_type": "stream",
     "text": [
      "55\n",
      "%%%%%%%%%%%%%%%%%%%%\n",
      "1\n",
      "%%%%%%%%%%%%%%%%%%%%\n",
      "9\n",
      "%%%%%%%%%%%%%%%%%%%%\n",
      "5.5\n",
      "%%%%%%%%%%%%%%%%%%%%\n",
      "2.3769728648009427\n",
      "%%%%%%%%%%%%%%%%%%%%\n",
      "5.5\n",
      "%%%%%%%%%%%%%%%%%%%%\n",
      "10\n",
      "[2.23606798 2.44948974 1.73205081 2.82842712]\n",
      "%%%%%%%%%%%%%%%%%%%%\n",
      "[25 36  9 64]\n",
      "[[2.23606798 2.44948974 1.73205081 2.82842712]\n",
      " [3.         2.82842712 2.64575131 2.        ]]\n",
      "%%%%%%%%%%%%%%%%%%%%\n",
      "[[25 36  9 64]\n",
      " [81 64 49 16]]\n"
     ]
    }
   ],
   "source": [
    "mat1= np.random.randint(1,10,(2,5))\n",
    "print(mat1.sum())\n",
    "print(10 * \"%%\")\n",
    "print(mat1.min())\n",
    "print(10 * \"%%\")\n",
    "print(mat1.max())\n",
    "print(10 * \"%%\")\n",
    "print(mat1.mean())\n",
    "print(10 * \"%%\")\n",
    "print(mat1.std())\n",
    "print(10 * \"%%\")\n",
    "print(np.average(mat1))\n",
    "print(10 * \"%%\")\n",
    "print(np.size(mat1))\n",
    "\n",
    "\n",
    "vect1=np.array([5,6,3,8])\n",
    "print(np.sqrt(vect1))\n",
    "print(10 * \"%%\")\n",
    "print(np.square(vect1))\n",
    "\n",
    "mat2=np.array([[5,6,3,8],[9,8,7,4]])\n",
    "print(np.sqrt(mat2))\n",
    "print(10 * \"%%\")\n",
    "print(np.square(mat2))"
   ]
  },
  {
   "cell_type": "markdown",
   "metadata": {},
   "source": [
    "# Eigenvalues & Eigenvector"
   ]
  },
  {
   "cell_type": "code",
   "execution_count": 16,
   "metadata": {},
   "outputs": [
    {
     "name": "stdout",
     "output_type": "stream",
     "text": [
      "[[5 4 6]\n",
      " [3 2 7]\n",
      " [5 3 4]]\n",
      "---------------\n",
      "[13.04058073+0.j         -1.02029036+0.75456299j -1.02029036-0.75456299j]\n",
      "[[ 0.66155734+0.j         -0.30565957-0.23002898j -0.30565957+0.23002898j]\n",
      " [ 0.52144898+0.j          0.87001604+0.j          0.87001604-0.j        ]\n",
      " [ 0.53891822+0.j         -0.24438891+0.19236698j -0.24438891-0.19236698j]]\n"
     ]
    }
   ],
   "source": [
    "mat=np.array([[5,4,6],[3,2,7],[5,3,4]])\n",
    "print(mat)\n",
    "print(15*\"-\")\n",
    "w,v = np.linalg.eig(mat)\n",
    "print(w)\n",
    "print(v)"
   ]
  },
  {
   "cell_type": "markdown",
   "metadata": {},
   "source": [
    "# Matrix determinant and inverse and Adjoint"
   ]
  },
  {
   "cell_type": "code",
   "execution_count": 20,
   "metadata": {},
   "outputs": [
    {
     "name": "stdout",
     "output_type": "stream",
     "text": [
      "[[2 1]\n",
      " [3 6]]\n",
      "---------------\n",
      "9.000000000000002\n",
      "---------------\n",
      "---------------\n",
      "[[ 6. -1.]\n",
      " [-3.  2.]]\n"
     ]
    }
   ],
   "source": [
    "mat=np.array([[2,1],[3,6]],dtype=int)\n",
    "print(mat)\n",
    "print(15*'-')\n",
    "det=np.linalg.det(mat)\n",
    "print(det)\n",
    "print(15*'-')\n",
    "inv=np.linalg.inv(mat)\n",
    "print(15*'-')\n",
    "print(inv*det)"
   ]
  },
  {
   "cell_type": "markdown",
   "metadata": {},
   "source": [
    "# Matrix norm"
   ]
  },
  {
   "cell_type": "code",
   "execution_count": 25,
   "metadata": {},
   "outputs": [
    {
     "name": "stdout",
     "output_type": "stream",
     "text": [
      "12.206555615733702\n",
      "********************\n",
      "[12.20655562]\n",
      "********************\n",
      "[[ 3  2]\n",
      " [10  6]]\n",
      "********************\n",
      "12.206555615733702\n",
      "********************\n",
      "[10.44030651  6.32455532]\n",
      "********************\n",
      "[ 3.60555128 11.66190379]\n",
      "********************\n",
      "[[12.20655562]]\n"
     ]
    }
   ],
   "source": [
    "vect1= np.array([3,2,10,6])\n",
    "print(np.linalg.norm(vect1))\n",
    "print(20* '*')\n",
    "print(np.linalg.norm(vect1,keepdims=True))\n",
    "print(20* '*')\n",
    "\n",
    "mat=np.array([[3,2],[10,6]])\n",
    "print(mat)\n",
    "print(20* '*')\n",
    "print(np.linalg.norm(mat))\n",
    "print(20* '*')\n",
    "print(np.linalg.norm(mat,axis=0))\n",
    "print(20* '*')\n",
    "print(np.linalg.norm(mat,axis=1))\n",
    "print(20* '*')\n",
    "print(np.linalg.norm(mat,keepdims=True))"
   ]
  },
  {
   "cell_type": "markdown",
   "metadata": {},
   "source": [
    "# Euclidean distance"
   ]
  },
  {
   "cell_type": "code",
   "execution_count": 30,
   "metadata": {},
   "outputs": [
    {
     "name": "stdout",
     "output_type": "stream",
     "text": [
      "********************\n",
      "9.1104335791443\n",
      "********************\n",
      "9.1104335791443\n",
      "********************\n",
      "9.1104335791443\n"
     ]
    }
   ],
   "source": [
    "# three method\n",
    "\n",
    "#1\n",
    "a=np.array([[3,2],[10,6]])\n",
    "b=np.array([[10,2],[5,9]])\n",
    "print(20* '*')\n",
    "print(np.linalg.norm(a-b))\n",
    "\n",
    "#2  only for vector\n",
    "c=np.array([3,2,10,6])\n",
    "d=np.array([10,2,5,9])\n",
    "print(20* '*')\n",
    "temp =c-d\n",
    "sum_sq = np.dot(temp.T,temp)\n",
    "print(np.sqrt(sum_sq))\n",
    "\n",
    "#3\n",
    "print(20* '*')\n",
    "t=a-b\n",
    "sq=np.square(t)\n",
    "sum_sq=np.sum(sq)\n",
    "sqrt=np.sqrt(sum_sq)\n",
    "print(sqrt)"
   ]
  },
  {
   "cell_type": "markdown",
   "metadata": {},
   "source": [
    "# Resolve"
   ]
  },
  {
   "cell_type": "code",
   "execution_count": 34,
   "metadata": {},
   "outputs": [
    {
     "name": "stdout",
     "output_type": "stream",
     "text": [
      "[-4.80487805 -1.63414634  3.46341463]\n"
     ]
    }
   ],
   "source": [
    "a=np.array([[2,5,6],[3,-1,6],[5,-5,4]])\n",
    "b=np.array([3,8,-2])\n",
    "print(np.linalg.solve(a,b))"
   ]
  }
 ],
 "metadata": {
  "kernelspec": {
   "display_name": "Python 3",
   "language": "python",
   "name": "python3"
  },
  "language_info": {
   "codemirror_mode": {
    "name": "ipython",
    "version": 3
   },
   "file_extension": ".py",
   "mimetype": "text/x-python",
   "name": "python",
   "nbconvert_exporter": "python",
   "pygments_lexer": "ipython3",
   "version": "3.7.4"
  }
 },
 "nbformat": 4,
 "nbformat_minor": 4
}
