{
 "cells": [
  {
   "cell_type": "markdown",
   "metadata": {},
   "source": [
    "# *Importing Libarary*"
   ]
  },
  {
   "cell_type": "code",
   "execution_count": 6,
   "metadata": {},
   "outputs": [],
   "source": [
    "import numpy as np"
   ]
  },
  {
   "cell_type": "markdown",
   "metadata": {},
   "source": [
    "# np.array Method"
   ]
  },
  {
   "cell_type": "code",
   "execution_count": 8,
   "metadata": {},
   "outputs": [
    {
     "name": "stdout",
     "output_type": "stream",
     "text": [
      "[1 2 5 6]\n",
      "[[[[[1 2 5 6]]]]]\n",
      "[1. 2. 5. 6.]\n",
      "[1.+0.j 2.+0.j 5.+0.j 6.+0.j]\n"
     ]
    }
   ],
   "source": [
    "print(np.array([1,2,5,6]))\n",
    "print(np.array([1,2,5,6],ndmin=5))\n",
    "print(np.array([1,2,5,6],dtype=float))\n",
    "print(np.array([1,2,5,6],dtype=complex))"
   ]
  },
  {
   "cell_type": "markdown",
   "metadata": {},
   "source": [
    "# Open csv file"
   ]
  },
  {
   "cell_type": "code",
   "execution_count": 11,
   "metadata": {},
   "outputs": [
    {
     "name": "stdout",
     "output_type": "stream",
     "text": [
      "['54', '8', '6', '10', '15', '89', '14']\n",
      "[54  8  6 10 15 89 14]\n"
     ]
    }
   ],
   "source": [
    "file1=open(\"file1.csv\",\"r\")\n",
    "str1=file1.read()\n",
    "list1=str1.split(\",\")\n",
    "print(list1)\n",
    "print(np.array(list1,int))"
   ]
  },
  {
   "cell_type": "markdown",
   "metadata": {},
   "source": [
    "# astype method"
   ]
  },
  {
   "cell_type": "code",
   "execution_count": 13,
   "metadata": {},
   "outputs": [
    {
     "name": "stdout",
     "output_type": "stream",
     "text": [
      "[1.  2.8 5.3 6.4]\n",
      "[1 2 5 6]\n",
      "[1 2 5 6]\n"
     ]
    }
   ],
   "source": [
    "array1=np.array([1,2.8,5.3,6.4])\n",
    "print(array1)\n",
    "print(array1.astype(int))\n",
    "print(array1.astype('i'))"
   ]
  },
  {
   "cell_type": "markdown",
   "metadata": {},
   "source": [
    "# arange method"
   ]
  },
  {
   "cell_type": "code",
   "execution_count": 17,
   "metadata": {},
   "outputs": [
    {
     "name": "stdout",
     "output_type": "stream",
     "text": [
      "(1, 5)\n",
      "[[1 3 5 7 9]]\n"
     ]
    }
   ],
   "source": [
    "array1=np.arange(1,10,2,dtype=int)\n",
    "array2=array1[np.newaxis]\n",
    "print(array2.shape)\n",
    "print(array2)"
   ]
  },
  {
   "cell_type": "markdown",
   "metadata": {},
   "source": [
    "# Random Values"
   ]
  },
  {
   "cell_type": "markdown",
   "metadata": {},
   "source": [
    "### Generate random scaler values"
   ]
  },
  {
   "cell_type": "code",
   "execution_count": 20,
   "metadata": {},
   "outputs": [
    {
     "name": "stdout",
     "output_type": "stream",
     "text": [
      "0.5934011424151276\n",
      "-1.4388065575953475\n",
      "11\n"
     ]
    }
   ],
   "source": [
    "print(np.random.rand())\n",
    "print(np.random.randn())\n",
    "print(np.random.randint(100))"
   ]
  },
  {
   "cell_type": "markdown",
   "metadata": {},
   "source": [
    "### Generate random vector values"
   ]
  },
  {
   "cell_type": "code",
   "execution_count": 21,
   "metadata": {},
   "outputs": [
    {
     "name": "stdout",
     "output_type": "stream",
     "text": [
      "[0.85231448 0.42290105 0.9594674 ]\n",
      "[-0.14119909  1.00050082  0.04528907]\n",
      "[35 28 67]\n"
     ]
    }
   ],
   "source": [
    "print(np.random.rand(3))\n",
    "print(np.random.randn(3))\n",
    "print(np.random.randint(1,100,3))"
   ]
  },
  {
   "cell_type": "markdown",
   "metadata": {},
   "source": [
    "### Generate random matrix values"
   ]
  },
  {
   "cell_type": "code",
   "execution_count": 24,
   "metadata": {},
   "outputs": [
    {
     "name": "stdout",
     "output_type": "stream",
     "text": [
      "[[0.20806617 0.39294913]\n",
      " [0.58777041 0.16986064]\n",
      " [0.97467347 0.44566348]]\n",
      "[[-1.52266553  0.02010539]\n",
      " [ 0.27680253  0.8901537 ]\n",
      " [-0.3031807  -0.37198329]]\n",
      "[[90 13]\n",
      " [45 46]\n",
      " [75 23]]\n"
     ]
    }
   ],
   "source": [
    "print(np.random.rand(3,2))\n",
    "print(np.random.randn(3,2))\n",
    "print(np.random.randint(100,size=(3,2)))"
   ]
  },
  {
   "cell_type": "markdown",
   "metadata": {},
   "source": [
    "### Generate random tensor values"
   ]
  },
  {
   "cell_type": "code",
   "execution_count": 25,
   "metadata": {},
   "outputs": [
    {
     "name": "stdout",
     "output_type": "stream",
     "text": [
      "[[[0.18170633 0.57918713 0.69847925 0.14484708]\n",
      "  [0.43206505 0.76181338 0.40642814 0.98061451]]\n",
      "\n",
      " [[0.44016845 0.80076951 0.78966876 0.56078957]\n",
      "  [0.63048629 0.57940529 0.60139307 0.29296708]]\n",
      "\n",
      " [[0.60089401 0.1126369  0.7312053  0.97213502]\n",
      "  [0.60495794 0.90878806 0.42466784 0.83965535]]]\n",
      "[[[ 1.46319853 -0.62476632  0.59951239 -1.41166146]\n",
      "  [-0.52863591  0.64773852 -0.5473722   2.28030289]]\n",
      "\n",
      " [[-0.78688682 -0.11491055 -0.04946051  2.70209739]\n",
      "  [ 1.0478312   1.67130897  0.04554214 -1.22033456]]\n",
      "\n",
      " [[-0.90304336  0.10619547  0.08222064  0.42029044]\n",
      "  [-1.17384409  0.64281933  1.4831966   0.41104947]]]\n",
      "[[[78 56 32 33]\n",
      "  [93 95 90  0]]\n",
      "\n",
      " [[30 46 49 91]\n",
      "  [95 15  7 84]]\n",
      "\n",
      " [[97 10 37 95]\n",
      "  [18 75 27 19]]]\n"
     ]
    }
   ],
   "source": [
    "print(np.random.rand(3,2,4))\n",
    "print(np.random.randn(3,2,4))\n",
    "print(np.random.randint(100,size=(3,2,4)))"
   ]
  },
  {
   "cell_type": "markdown",
   "metadata": {},
   "source": [
    "# Zero value"
   ]
  },
  {
   "cell_type": "markdown",
   "metadata": {},
   "source": [
    "### Generate zero vector value"
   ]
  },
  {
   "cell_type": "code",
   "execution_count": 26,
   "metadata": {},
   "outputs": [
    {
     "name": "stdout",
     "output_type": "stream",
     "text": [
      "[0. 0. 0.]\n",
      "[0 0 0]\n"
     ]
    }
   ],
   "source": [
    "print(np.zeros(3))\n",
    "print(np.zeros(3,dtype=int))"
   ]
  },
  {
   "cell_type": "markdown",
   "metadata": {},
   "source": [
    "### Generate zero matrix value"
   ]
  },
  {
   "cell_type": "code",
   "execution_count": 29,
   "metadata": {},
   "outputs": [
    {
     "name": "stdout",
     "output_type": "stream",
     "text": [
      "[[0. 0. 0. 0. 0. 0.]\n",
      " [0. 0. 0. 0. 0. 0.]\n",
      " [0. 0. 0. 0. 0. 0.]]\n",
      "[[0 0 0 0 0 0]\n",
      " [0 0 0 0 0 0]\n",
      " [0 0 0 0 0 0]]\n"
     ]
    }
   ],
   "source": [
    "print(np.zeros((3,6)))\n",
    "print(np.zeros((3,6),dtype=int))"
   ]
  },
  {
   "cell_type": "markdown",
   "metadata": {},
   "source": [
    "### Generate zero matrix value"
   ]
  },
  {
   "cell_type": "code",
   "execution_count": 30,
   "metadata": {},
   "outputs": [
    {
     "name": "stdout",
     "output_type": "stream",
     "text": [
      "[[[0. 0. 0. 0. 0. 0. 0.]\n",
      "  [0. 0. 0. 0. 0. 0. 0.]\n",
      "  [0. 0. 0. 0. 0. 0. 0.]\n",
      "  [0. 0. 0. 0. 0. 0. 0.]\n",
      "  [0. 0. 0. 0. 0. 0. 0.]\n",
      "  [0. 0. 0. 0. 0. 0. 0.]]\n",
      "\n",
      " [[0. 0. 0. 0. 0. 0. 0.]\n",
      "  [0. 0. 0. 0. 0. 0. 0.]\n",
      "  [0. 0. 0. 0. 0. 0. 0.]\n",
      "  [0. 0. 0. 0. 0. 0. 0.]\n",
      "  [0. 0. 0. 0. 0. 0. 0.]\n",
      "  [0. 0. 0. 0. 0. 0. 0.]]\n",
      "\n",
      " [[0. 0. 0. 0. 0. 0. 0.]\n",
      "  [0. 0. 0. 0. 0. 0. 0.]\n",
      "  [0. 0. 0. 0. 0. 0. 0.]\n",
      "  [0. 0. 0. 0. 0. 0. 0.]\n",
      "  [0. 0. 0. 0. 0. 0. 0.]\n",
      "  [0. 0. 0. 0. 0. 0. 0.]]]\n",
      "[[[0 0 0 0 0 0 0]\n",
      "  [0 0 0 0 0 0 0]\n",
      "  [0 0 0 0 0 0 0]\n",
      "  [0 0 0 0 0 0 0]\n",
      "  [0 0 0 0 0 0 0]\n",
      "  [0 0 0 0 0 0 0]]\n",
      "\n",
      " [[0 0 0 0 0 0 0]\n",
      "  [0 0 0 0 0 0 0]\n",
      "  [0 0 0 0 0 0 0]\n",
      "  [0 0 0 0 0 0 0]\n",
      "  [0 0 0 0 0 0 0]\n",
      "  [0 0 0 0 0 0 0]]\n",
      "\n",
      " [[0 0 0 0 0 0 0]\n",
      "  [0 0 0 0 0 0 0]\n",
      "  [0 0 0 0 0 0 0]\n",
      "  [0 0 0 0 0 0 0]\n",
      "  [0 0 0 0 0 0 0]\n",
      "  [0 0 0 0 0 0 0]]]\n"
     ]
    }
   ],
   "source": [
    "print(np.zeros((3,6,7)))\n",
    "print(np.zeros((3,6,7),dtype=int))"
   ]
  },
  {
   "cell_type": "markdown",
   "metadata": {},
   "source": [
    "# One values"
   ]
  },
  {
   "cell_type": "code",
   "execution_count": 32,
   "metadata": {},
   "outputs": [
    {
     "name": "stdout",
     "output_type": "stream",
     "text": [
      "[1. 1.]\n",
      "****************************************************************************************************\n",
      "[[1. 1. 1.]\n",
      " [1. 1. 1.]]\n",
      "****************************************************************************************************\n",
      "[[[1 1 1 1]\n",
      "  [1 1 1 1]\n",
      "  [1 1 1 1]]\n",
      "\n",
      " [[1 1 1 1]\n",
      "  [1 1 1 1]\n",
      "  [1 1 1 1]]]\n"
     ]
    }
   ],
   "source": [
    "print(np.ones(2))\n",
    "print(100 * \"*\")\n",
    "print(np.ones((2,3)))\n",
    "\n",
    "print(100 * \"*\")\n",
    "print(np.ones((2,3,4),dtype=int))"
   ]
  },
  {
   "cell_type": "markdown",
   "metadata": {},
   "source": [
    "# Full values"
   ]
  },
  {
   "cell_type": "code",
   "execution_count": 33,
   "metadata": {},
   "outputs": [
    {
     "name": "stdout",
     "output_type": "stream",
     "text": [
      "[4 4 4]\n",
      "////////////////////////////////////////////////////////////////////////////////////////////////////\n",
      "[[6 6 6 6 6]\n",
      " [6 6 6 6 6]\n",
      " [6 6 6 6 6]]\n",
      "////////////////////////////////////////////////////////////////////////////////////////////////////\n",
      "[[[3 3]\n",
      "  [3 3]\n",
      "  [3 3]\n",
      "  [3 3]\n",
      "  [3 3]]\n",
      "\n",
      " [[3 3]\n",
      "  [3 3]\n",
      "  [3 3]\n",
      "  [3 3]\n",
      "  [3 3]]\n",
      "\n",
      " [[3 3]\n",
      "  [3 3]\n",
      "  [3 3]\n",
      "  [3 3]\n",
      "  [3 3]]]\n"
     ]
    }
   ],
   "source": [
    "print(np.full(3,4,dtype=int))\n",
    "print(100 * \"/\")\n",
    "print(np.full((3,5),6,dtype=int))\n",
    "print(100 * \"/\")\n",
    "print(np.full((3,5,2),3,dtype=int))\n"
   ]
  },
  {
   "cell_type": "markdown",
   "metadata": {},
   "source": [
    "# Like values"
   ]
  },
  {
   "cell_type": "code",
   "execution_count": 35,
   "metadata": {},
   "outputs": [
    {
     "name": "stdout",
     "output_type": "stream",
     "text": [
      "[16  4  5 18 12  6 17 15  8 18 13 18  2  3  7  8 17 12 17 11 12 11 12  7\n",
      " 13 11  7  7  3 17  3  8 14  7  8  2  8 12 15  9 10 17  1 10 14  9  1 14\n",
      "  1 16  1  8  5  3 12  4  2  9  4 14 19  4  8 12 17  6 18  9 14 15  4 16\n",
      " 16 10 13  1  8 16 18 14 13 18 19 10  8 14 14 10 12 12  3 17  9  2  4  2\n",
      " 12  4  9  1]\n",
      "****************************************************************************************************\n",
      "[1 1 1 1 1 1 1 1 1 1 1 1 1 1 1 1 1 1 1 1 1 1 1 1 1 1 1 1 1 1 1 1 1 1 1 1 1\n",
      " 1 1 1 1 1 1 1 1 1 1 1 1 1 1 1 1 1 1 1 1 1 1 1 1 1 1 1 1 1 1 1 1 1 1 1 1 1\n",
      " 1 1 1 1 1 1 1 1 1 1 1 1 1 1 1 1 1 1 1 1 1 1 1 1 1 1]\n",
      "****************************************************************************************************\n",
      "[0 0 0 0 0 0 0 0 0 0 0 0 0 0 0 0 0 0 0 0 0 0 0 0 0 0 0 0 0 0 0 0 0 0 0 0 0\n",
      " 0 0 0 0 0 0 0 0 0 0 0 0 0 0 0 0 0 0 0 0 0 0 0 0 0 0 0 0 0 0 0 0 0 0 0 0 0\n",
      " 0 0 0 0 0 0 0 0 0 0 0 0 0 0 0 0 0 0 0 0 0 0 0 0 0 0]\n",
      "****************************************************************************************************\n",
      "[45 45 45 45 45 45 45 45 45 45 45 45 45 45 45 45 45 45 45 45 45 45 45 45\n",
      " 45 45 45 45 45 45 45 45 45 45 45 45 45 45 45 45 45 45 45 45 45 45 45 45\n",
      " 45 45 45 45 45 45 45 45 45 45 45 45 45 45 45 45 45 45 45 45 45 45 45 45\n",
      " 45 45 45 45 45 45 45 45 45 45 45 45 45 45 45 45 45 45 45 45 45 45 45 45\n",
      " 45 45 45 45]\n"
     ]
    }
   ],
   "source": [
    "vector1=np.random.randint(1,20,100,dtype=int)\n",
    "print(vector1)\n",
    "print(100* \"*\")\n",
    "print(np.ones_like(vector1))\n",
    "print(100* \"*\")\n",
    "print(np.zeros_like(vector1))\n",
    "print(100* \"*\")\n",
    "print(np.full_like(vector1,45))"
   ]
  },
  {
   "cell_type": "markdown",
   "metadata": {},
   "source": [
    "# identity matrix"
   ]
  },
  {
   "cell_type": "code",
   "execution_count": 36,
   "metadata": {},
   "outputs": [
    {
     "name": "stdout",
     "output_type": "stream",
     "text": [
      "[[1. 0. 0. 0. 0. 0. 0. 0. 0. 0.]\n",
      " [0. 1. 0. 0. 0. 0. 0. 0. 0. 0.]\n",
      " [0. 0. 1. 0. 0. 0. 0. 0. 0. 0.]\n",
      " [0. 0. 0. 1. 0. 0. 0. 0. 0. 0.]\n",
      " [0. 0. 0. 0. 1. 0. 0. 0. 0. 0.]\n",
      " [0. 0. 0. 0. 0. 1. 0. 0. 0. 0.]\n",
      " [0. 0. 0. 0. 0. 0. 1. 0. 0. 0.]\n",
      " [0. 0. 0. 0. 0. 0. 0. 1. 0. 0.]\n",
      " [0. 0. 0. 0. 0. 0. 0. 0. 1. 0.]\n",
      " [0. 0. 0. 0. 0. 0. 0. 0. 0. 1.]]\n",
      "****************************************************************************************************\n",
      "[[1 0 0 0 0 0 0 0 0 0]\n",
      " [0 1 0 0 0 0 0 0 0 0]\n",
      " [0 0 1 0 0 0 0 0 0 0]\n",
      " [0 0 0 1 0 0 0 0 0 0]\n",
      " [0 0 0 0 1 0 0 0 0 0]\n",
      " [0 0 0 0 0 1 0 0 0 0]\n",
      " [0 0 0 0 0 0 1 0 0 0]\n",
      " [0 0 0 0 0 0 0 1 0 0]\n",
      " [0 0 0 0 0 0 0 0 1 0]\n",
      " [0 0 0 0 0 0 0 0 0 1]]\n"
     ]
    }
   ],
   "source": [
    "print(np.identity(10))\n",
    "print(100* \"*\")\n",
    "print(np.identity(10,dtype=int))"
   ]
  },
  {
   "cell_type": "markdown",
   "metadata": {},
   "source": [
    "# Transpose matrix"
   ]
  },
  {
   "cell_type": "code",
   "execution_count": 38,
   "metadata": {},
   "outputs": [
    {
     "name": "stdout",
     "output_type": "stream",
     "text": [
      "[[2 8 9]\n",
      " [8 7 7]]\n",
      "****************************************************************************************************\n",
      "[[2 8]\n",
      " [8 7]\n",
      " [9 7]]\n",
      "****************************************************************************************************\n",
      "[[2 8]\n",
      " [8 7]\n",
      " [9 7]]\n"
     ]
    }
   ],
   "source": [
    "mat=np.random.randint(1,10,(2,3))\n",
    "print(mat)\n",
    "print(100* \"*\")\n",
    "print(mat.transpose())\n",
    "print(100* \"*\")\n",
    "print(mat.T)"
   ]
  },
  {
   "cell_type": "markdown",
   "metadata": {},
   "source": [
    "# Row and Column matrix"
   ]
  },
  {
   "cell_type": "code",
   "execution_count": 39,
   "metadata": {},
   "outputs": [
    {
     "name": "stdout",
     "output_type": "stream",
     "text": [
      "[1 3 5 7 9]\n",
      "****************************************************************************************************\n",
      "[1 3 5 7 9]\n"
     ]
    }
   ],
   "source": [
    "print(np.arange(1,10,2))\n",
    "print(100* \"*\")\n",
    "print(np.arange(1,10,2).T)"
   ]
  },
  {
   "cell_type": "markdown",
   "metadata": {},
   "source": [
    "# Lower triangle matrix"
   ]
  },
  {
   "cell_type": "code",
   "execution_count": 41,
   "metadata": {},
   "outputs": [
    {
     "name": "stdout",
     "output_type": "stream",
     "text": [
      "[[9 0 0 0 0]\n",
      " [6 3 0 0 0]\n",
      " [9 5 6 0 0]\n",
      " [8 1 3 7 0]\n",
      " [7 3 8 9 8]]\n",
      "****************************************************************************************************\n",
      "[[0 0 0 0 0]\n",
      " [6 0 0 0 0]\n",
      " [9 5 0 0 0]\n",
      " [8 1 3 0 0]\n",
      " [7 3 8 9 0]]\n"
     ]
    }
   ],
   "source": [
    "mat = np.random.randint(1,10,(5,5))\n",
    "print(np.tril(mat))\n",
    "print(100* \"*\")\n",
    "print(np.tril(mat,-1))"
   ]
  },
  {
   "cell_type": "markdown",
   "metadata": {},
   "source": [
    "# Upper triangle matrix"
   ]
  },
  {
   "cell_type": "code",
   "execution_count": 43,
   "metadata": {},
   "outputs": [
    {
     "name": "stdout",
     "output_type": "stream",
     "text": [
      "[[ 6 10 11  9]\n",
      " [ 0 12  5  9]\n",
      " [ 0  0 12  7]\n",
      " [ 0  0  0  9]]\n",
      "****************************************************************************************************\n",
      "[[ 0 10 11  9]\n",
      " [ 0  0  5  9]\n",
      " [ 0  0  0  7]\n",
      " [ 0  0  0  0]]\n"
     ]
    }
   ],
   "source": [
    "mat = np.random.randint(4,14,(4,4))\n",
    "print(np.triu(mat))\n",
    "print(100* \"*\")\n",
    "print(np.triu(mat,+1))"
   ]
  },
  {
   "cell_type": "markdown",
   "metadata": {},
   "source": [
    "# Symmetrical matrix    "
   ]
  },
  {
   "cell_type": "code",
   "execution_count": 48,
   "metadata": {},
   "outputs": [
    {
     "name": "stdout",
     "output_type": "stream",
     "text": [
      "[[4 2 7 1]\n",
      " [3 4 1 6]\n",
      " [4 4 7 0]\n",
      " [8 0 0 8]]\n",
      "****************************************************************************************************\n",
      "[[ 8  3  4  8]\n",
      " [ 3  8  4  0]\n",
      " [ 4  4 14  0]\n",
      " [ 8  0  0 16]]\n"
     ]
    }
   ],
   "source": [
    "mat= np.random.randint(10,size=(4,4))\n",
    "print(mat)\n",
    "print(100* \"*\")\n",
    "symetrical= np.tril(mat)+np.tril(mat).T\n",
    "print(symetrical)"
   ]
  },
  {
   "cell_type": "markdown",
   "metadata": {},
   "source": [
    "# Digonal and Digonal matrix"
   ]
  },
  {
   "cell_type": "code",
   "execution_count": 52,
   "metadata": {},
   "outputs": [
    {
     "name": "stdout",
     "output_type": "stream",
     "text": [
      "[[ 7 98  6 29 35 68 30 85]\n",
      " [40 67 20 53  4 66 90 81]\n",
      " [ 9 58 35  3  8 77 26 15]\n",
      " [63 49 80 37 14 21 59 16]\n",
      " [69  1 80  7  6 28 69 67]\n",
      " [20 43 50 64 36 32 47 30]\n",
      " [62 43 98 38 53 34 25 27]\n",
      " [80  6 13 22 23 75 64 38]]\n",
      "****************************************************************************************************\n",
      "[ 7 67 35 37  6 32 25 38]\n",
      "****************************************************************************************************\n",
      "[[5 0 0 0]\n",
      " [0 6 0 0]\n",
      " [0 0 3 0]\n",
      " [0 0 0 9]]\n"
     ]
    }
   ],
   "source": [
    "mat = np.random.randint(1,100,(8,8))\n",
    "print(mat)\n",
    "print(100* \"*\")\n",
    "print(np.diag(mat))  #Diagonal\n",
    "print(100* \"*\")\n",
    "print(np.diag([5,6,3,9])) #Diagonal matrix\n"
   ]
  },
  {
   "cell_type": "markdown",
   "metadata": {},
   "source": [
    "# nditer method"
   ]
  },
  {
   "cell_type": "code",
   "execution_count": 61,
   "metadata": {},
   "outputs": [
    {
     "name": "stdout",
     "output_type": "stream",
     "text": [
      "[[ 1  4  7]\n",
      " [10 13 16]\n",
      " [19 22 25]]\n",
      "1\n",
      "4\n",
      "7\n",
      "10\n",
      "13\n",
      "16\n",
      "19\n",
      "22\n",
      "25\n",
      "****************************************************************************************************\n",
      "1\n",
      "4\n",
      "7\n",
      "10\n",
      "13\n",
      "16\n",
      "19\n",
      "22\n",
      "25\n",
      "****************************************************************************************************\n",
      "[[[[[10  3  6]]]]]\n",
      "****************************************************************************************************\n",
      "10\n",
      "3\n",
      "6\n"
     ]
    }
   ],
   "source": [
    "mat = np.arange(1,27,3).reshape(3,3)\n",
    "print(mat)\n",
    "\n",
    "for row in mat:\n",
    "    for col in row:\n",
    "        print(col)\n",
    "\n",
    "print(100* \"*\")\n",
    "\n",
    "for i in np.nditer(mat):\n",
    "    print(i)\n",
    "\n",
    "print(100* \"*\")\n",
    "\n",
    "mat2 = np.array([10,3,6],ndmin=5)\n",
    "print(mat2)\n",
    "print(100* \"*\")\n",
    "\n",
    "for i in np.nditer(mat2):\n",
    "    print(i)\n"
   ]
  },
  {
   "cell_type": "code",
   "execution_count": null,
   "metadata": {},
   "outputs": [],
   "source": []
  }
 ],
 "metadata": {
  "kernelspec": {
   "display_name": "Python 3",
   "language": "python",
   "name": "python3"
  },
  "language_info": {
   "codemirror_mode": {
    "name": "ipython",
    "version": 3
   },
   "file_extension": ".py",
   "mimetype": "text/x-python",
   "name": "python",
   "nbconvert_exporter": "python",
   "pygments_lexer": "ipython3",
   "version": "3.7.4"
  }
 },
 "nbformat": 4,
 "nbformat_minor": 4
}
