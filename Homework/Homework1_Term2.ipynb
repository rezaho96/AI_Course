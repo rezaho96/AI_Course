{
 "cells": [
  {
   "cell_type": "code",
   "execution_count": 31,
   "metadata": {},
   "outputs": [],
   "source": [
    "import numpy as np"
   ]
  },
  {
   "cell_type": "markdown",
   "metadata": {},
   "source": [
    "# Exercise 1"
   ]
  },
  {
   "cell_type": "code",
   "execution_count": 32,
   "metadata": {},
   "outputs": [
    {
     "name": "stdout",
     "output_type": "stream",
     "text": [
      "A * B  =\n",
      "[[50 42 42]\n",
      " [25 96 26]]\n"
     ]
    }
   ],
   "source": [
    "A= np.array([[3,2,1,5],[9,1,3,0]])\n",
    "B= np.array([[2,9,0],[1,3,5],[2,4,7],[8,1,5]])\n",
    "print(\"A * B  =\")\n",
    "print(np.dot(A,B))\n"
   ]
  },
  {
   "cell_type": "markdown",
   "metadata": {},
   "source": [
    "# Exercise 2"
   ]
  },
  {
   "cell_type": "code",
   "execution_count": 33,
   "metadata": {},
   "outputs": [
    {
     "name": "stdout",
     "output_type": "stream",
     "text": [
      "determinant(A) =\n",
      "-254.99999999999991\n"
     ]
    }
   ],
   "source": [
    "A = np.array([[3,8,-6],[4,10,-1],[-1,9,7]])\n",
    "print(\"determinant(A) =\")\n",
    "print(np.linalg.det(A))"
   ]
  },
  {
   "cell_type": "markdown",
   "metadata": {},
   "source": [
    "# Exercise 3"
   ]
  },
  {
   "cell_type": "code",
   "execution_count": 34,
   "metadata": {},
   "outputs": [
    {
     "name": "stdout",
     "output_type": "stream",
     "text": [
      "inverse(A) =\n",
      "[[ 0.5  0.5 -0.5]\n",
      " [-1.5  0.5  0.5]\n",
      " [ 4.5 -2.5 -0.5]]\n"
     ]
    }
   ],
   "source": [
    "A = np.array([[2,3,1],[3,4,1],[3,7,2]])\n",
    "print(\"inverse(A) =\")\n",
    "print(np.linalg.inv(A))"
   ]
  },
  {
   "cell_type": "markdown",
   "metadata": {},
   "source": [
    "# Exercise 4  "
   ]
  },
  {
   "cell_type": "code",
   "execution_count": 35,
   "metadata": {},
   "outputs": [
    {
     "name": "stdout",
     "output_type": "stream",
     "text": [
      "Eigenvalues(A) =\n",
      "[-1. -2.]\n"
     ]
    }
   ],
   "source": [
    "A = np.array([[0,1],[-2,-3]])\n",
    "eigenvalue,__ = np.linalg.eig(A)\n",
    "print(\"Eigenvalues(A) =\")\n",
    "print(eigenvalue)"
   ]
  },
  {
   "cell_type": "markdown",
   "metadata": {},
   "source": [
    "# Exercise 5"
   ]
  },
  {
   "cell_type": "code",
   "execution_count": 36,
   "metadata": {},
   "outputs": [
    {
     "name": "stdout",
     "output_type": "stream",
     "text": [
      "Norm(A) = \n",
      "12.0\n",
      "**********\n",
      "Norm(A) for each Column :\n",
      "[6.40312424 7.87400787 6.40312424]\n",
      "**********\n",
      "Norm(A) for each Row :\n",
      "[8.36660027 2.23606798 8.30662386]\n"
     ]
    }
   ],
   "source": [
    "A = np.array([[5,3,6],[0,-2,1],[4,7,2]])\n",
    "print(\"Norm(A) = \")\n",
    "print(np.linalg.norm(A))\n",
    "print(10* \"*\")\n",
    "print(\"Norm(A) for each Column :\")\n",
    "print(np.linalg.norm(A,axis=0))\n",
    "print(10* \"*\")\n",
    "print(\"Norm(A) for each Row :\")\n",
    "print(np.linalg.norm(A,axis=1))"
   ]
  },
  {
   "cell_type": "markdown",
   "metadata": {},
   "source": [
    "# Exercise 7"
   ]
  },
  {
   "cell_type": "code",
   "execution_count": 37,
   "metadata": {},
   "outputs": [
    {
     "name": "stdout",
     "output_type": "stream",
     "text": [
      "The answer to Eq :\n",
      "[ 2.  4. 12.]\n"
     ]
    }
   ],
   "source": [
    "A = np.array([[1,-1,1],[3,1,2],[-5,2,-1]])\n",
    "B = np.array([10,34,-14])\n",
    "# Solving the equation with the matrix of coefficients A and the resulting matrix B :\n",
    "print(\"The answer to Eq :\")\n",
    "print(np.linalg.solve(A,B))"
   ]
  }
 ],
 "metadata": {
  "kernelspec": {
   "display_name": "Python 3",
   "language": "python",
   "name": "python3"
  },
  "language_info": {
   "codemirror_mode": {
    "name": "ipython",
    "version": 3
   },
   "file_extension": ".py",
   "mimetype": "text/x-python",
   "name": "python",
   "nbconvert_exporter": "python",
   "pygments_lexer": "ipython3",
   "version": "3.7.4"
  }
 },
 "nbformat": 4,
 "nbformat_minor": 4
}
